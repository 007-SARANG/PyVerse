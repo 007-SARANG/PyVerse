{
  "nbformat": 4,
  "nbformat_minor": 0,
  "metadata": {
    "colab": {
      "provenance": []
    },
    "kernelspec": {
      "name": "python3",
      "display_name": "Python 3"
    },
    "language_info": {
      "name": "python"
    }
  },
  "cells": [
    {
      "cell_type": "markdown",
      "source": [
        "Install Required Libraries"
      ],
      "metadata": {
        "id": "Hq5C58mNDcDA"
      }
    },
    {
      "cell_type": "code",
      "source": [
        "pip install pandas matplotlib seaborn fpdf"
      ],
      "metadata": {
        "colab": {
          "base_uri": "https://localhost:8080/"
        },
        "id": "X-Sj73saDfK4",
        "outputId": "8d4d34a0-d903-4aac-8294-140816330af9"
      },
      "execution_count": null,
      "outputs": [
        {
          "output_type": "stream",
          "name": "stdout",
          "text": [
            "Requirement already satisfied: pandas in /usr/local/lib/python3.10/dist-packages (2.2.2)\n",
            "Requirement already satisfied: matplotlib in /usr/local/lib/python3.10/dist-packages (3.7.1)\n",
            "Requirement already satisfied: seaborn in /usr/local/lib/python3.10/dist-packages (0.13.1)\n",
            "Collecting fpdf\n",
            "  Downloading fpdf-1.7.2.tar.gz (39 kB)\n",
            "  Preparing metadata (setup.py) ... \u001b[?25l\u001b[?25hdone\n",
            "Requirement already satisfied: numpy>=1.22.4 in /usr/local/lib/python3.10/dist-packages (from pandas) (1.26.4)\n",
            "Requirement already satisfied: python-dateutil>=2.8.2 in /usr/local/lib/python3.10/dist-packages (from pandas) (2.8.2)\n",
            "Requirement already satisfied: pytz>=2020.1 in /usr/local/lib/python3.10/dist-packages (from pandas) (2024.2)\n",
            "Requirement already satisfied: tzdata>=2022.7 in /usr/local/lib/python3.10/dist-packages (from pandas) (2024.2)\n",
            "Requirement already satisfied: contourpy>=1.0.1 in /usr/local/lib/python3.10/dist-packages (from matplotlib) (1.3.0)\n",
            "Requirement already satisfied: cycler>=0.10 in /usr/local/lib/python3.10/dist-packages (from matplotlib) (0.12.1)\n",
            "Requirement already satisfied: fonttools>=4.22.0 in /usr/local/lib/python3.10/dist-packages (from matplotlib) (4.54.1)\n",
            "Requirement already satisfied: kiwisolver>=1.0.1 in /usr/local/lib/python3.10/dist-packages (from matplotlib) (1.4.7)\n",
            "Requirement already satisfied: packaging>=20.0 in /usr/local/lib/python3.10/dist-packages (from matplotlib) (24.1)\n",
            "Requirement already satisfied: pillow>=6.2.0 in /usr/local/lib/python3.10/dist-packages (from matplotlib) (10.4.0)\n",
            "Requirement already satisfied: pyparsing>=2.3.1 in /usr/local/lib/python3.10/dist-packages (from matplotlib) (3.1.4)\n",
            "Requirement already satisfied: six>=1.5 in /usr/local/lib/python3.10/dist-packages (from python-dateutil>=2.8.2->pandas) (1.16.0)\n",
            "Building wheels for collected packages: fpdf\n",
            "  Building wheel for fpdf (setup.py) ... \u001b[?25l\u001b[?25hdone\n",
            "  Created wheel for fpdf: filename=fpdf-1.7.2-py2.py3-none-any.whl size=40704 sha256=4fa5b6b75bb980095cca4125cb3b2ed5b341c006ac4f780d515ce75a603b96d1\n",
            "  Stored in directory: /root/.cache/pip/wheels/f9/95/ba/f418094659025eb9611f17cbcaf2334236bf39a0c3453ea455\n",
            "Successfully built fpdf\n",
            "Installing collected packages: fpdf\n",
            "Successfully installed fpdf-1.7.2\n"
          ]
        }
      ]
    },
    {
      "cell_type": "markdown",
      "source": [
        "Import Required Libraries"
      ],
      "metadata": {
        "id": "7FWQXJOHZi2z"
      }
    },
    {
      "cell_type": "code",
      "source": [
        "import pandas as pd\n",
        "import matplotlib.pyplot as plt\n",
        "import seaborn as sns\n",
        "from sklearn.linear_model import LinearRegression\n",
        "from sklearn.cluster import KMeans\n",
        "from scipy import stats\n",
        "from fpdf import FPDF\n",
        "from mpl_toolkits.mplot3d import Axes3D  # Import for 3D plotting"
      ],
      "metadata": {
        "id": "qhug8WhMZlRw"
      },
      "execution_count": null,
      "outputs": []
    },
    {
      "cell_type": "markdown",
      "source": [
        "Load the Data"
      ],
      "metadata": {
        "id": "630uIayCDrAG"
      }
    },
    {
      "cell_type": "code",
      "source": [
        "import pandas as pd\n",
        "\n",
        "data = pd.read_csv('mall_customers.csv')\n",
        "print(\"Data loaded successfully!\")\n",
        "print(data.head())\n"
      ],
      "metadata": {
        "id": "z3C7t2MPDryU",
        "colab": {
          "base_uri": "https://localhost:8080/"
        },
        "outputId": "4423e1f9-8816-4409-b551-b523ce6a3a0a"
      },
      "execution_count": null,
      "outputs": [
        {
          "output_type": "stream",
          "name": "stdout",
          "text": [
            "Data loaded successfully!\n",
            "   CustomerID  Gender  Age  Annual Income (k$)  Spending Score (1-100)\n",
            "0           1    Male   19                  15                      39\n",
            "1           2    Male   21                  15                      81\n",
            "2           3  Female   20                  16                       6\n",
            "3           4  Female   23                  16                      77\n",
            "4           5  Female   31                  17                      40\n"
          ]
        }
      ]
    },
    {
      "cell_type": "markdown",
      "source": [
        "Data Cleaning"
      ],
      "metadata": {
        "id": "BKzgo3wfEVQi"
      }
    },
    {
      "cell_type": "code",
      "source": [
        "# Check for missing values\n",
        "print(\"\\nMissing values in each column:\")\n",
        "print(data.isnull().sum())"
      ],
      "metadata": {
        "colab": {
          "base_uri": "https://localhost:8080/"
        },
        "id": "ORkG6fYqEYwK",
        "outputId": "3d4c7bc8-65d2-41ef-f0ff-a226a51b5b62"
      },
      "execution_count": null,
      "outputs": [
        {
          "output_type": "stream",
          "name": "stdout",
          "text": [
            "\n",
            "Missing values in each column:\n",
            "CustomerID                0\n",
            "Gender                    0\n",
            "Age                       0\n",
            "Annual Income (k$)        0\n",
            "Spending Score (1-100)    0\n",
            "dtype: int64\n"
          ]
        }
      ]
    },
    {
      "cell_type": "code",
      "source": [
        "# Drop rows with missing values if necessary\n",
        "data.dropna(inplace=True)\n",
        "print(\"\\nMissing values after cleaning:\")\n",
        "print(data.isnull().sum())"
      ],
      "metadata": {
        "colab": {
          "base_uri": "https://localhost:8080/"
        },
        "id": "0X7Y1zxrE1MJ",
        "outputId": "230b3512-a636-4c2d-b057-e377b7a1320d"
      },
      "execution_count": null,
      "outputs": [
        {
          "output_type": "stream",
          "name": "stdout",
          "text": [
            "\n",
            "Missing values after cleaning:\n",
            "CustomerID                0\n",
            "Gender                    0\n",
            "Age                       0\n",
            "Annual Income (k$)        0\n",
            "Spending Score (1-100)    0\n",
            "dtype: int64\n"
          ]
        }
      ]
    },
    {
      "cell_type": "code",
      "source": [
        "# Check for duplicates\n",
        "duplicates = data.duplicated().sum()\n",
        "print(f\"\\nNumber of duplicate rows: {duplicates}\")\n",
        "data.drop_duplicates(inplace=True)\n"
      ],
      "metadata": {
        "colab": {
          "base_uri": "https://localhost:8080/"
        },
        "id": "gElmyJYOE1Z8",
        "outputId": "21165e4c-77dd-4435-8d86-2a1fceb90acb"
      },
      "execution_count": null,
      "outputs": [
        {
          "output_type": "stream",
          "name": "stdout",
          "text": [
            "\n",
            "Number of duplicate rows: 0\n"
          ]
        }
      ]
    },
    {
      "cell_type": "code",
      "source": [
        "# Convert data types if necessary\n",
        "data['Gender'] = data['Gender'].astype('category')"
      ],
      "metadata": {
        "id": "99OuKYYEE1kY"
      },
      "execution_count": null,
      "outputs": []
    },
    {
      "cell_type": "code",
      "source": [
        "# Convert 'Gender' to numeric values\n",
        "data['Gender'] = data['Gender'].map({'Male': 1, 'Female': 0})"
      ],
      "metadata": {
        "id": "SRKk4OH2aRMo"
      },
      "execution_count": null,
      "outputs": []
    },
    {
      "cell_type": "code",
      "source": [
        "# Check for outliers using IQR for Age and Annual Income\n",
        "def remove_outliers(df, column):\n",
        "    Q1 = df[column].quantile(0.25)\n",
        "    Q3 = df[column].quantile(0.75)\n",
        "    IQR = Q3 - Q1\n",
        "    lower_bound = Q1 - 1.5 * IQR\n",
        "    upper_bound = Q3 + 1.5 * IQR\n",
        "    return df[(df[column] >= lower_bound) & (df[column] <= upper_bound)]\n",
        "\n",
        "data = remove_outliers(data, 'Age')\n",
        "data = remove_outliers(data, 'Annual Income (k$)')\n",
        "\n",
        "original_size = len(data)\n",
        "data = remove_outliers(data, 'Age')\n",
        "age_outliers_removed = original_size - len(data)\n",
        "print(f\"Removed {age_outliers_removed} outliers from Age.\")\n",
        "\n",
        "original_size = len(data)\n",
        "data = remove_outliers(data, 'Annual Income (k$)')\n",
        "income_outliers_removed = original_size - len(data)\n",
        "print(f\"Removed {income_outliers_removed} outliers from Annual Income.\")\n"
      ],
      "metadata": {
        "colab": {
          "base_uri": "https://localhost:8080/"
        },
        "id": "iKRFlKglFCTL",
        "outputId": "c913afe9-6ee2-49a5-ab00-a18f4fa3fffa"
      },
      "execution_count": null,
      "outputs": [
        {
          "output_type": "stream",
          "name": "stdout",
          "text": [
            "Removed 0 outliers from Age.\n",
            "Removed 0 outliers from Annual Income.\n"
          ]
        }
      ]
    },
    {
      "cell_type": "code",
      "source": [
        "# Display basic information about the cleaned dataset\n",
        "print(\"\\nDataset Info after cleaning:\")\n",
        "print(data.info())"
      ],
      "metadata": {
        "colab": {
          "base_uri": "https://localhost:8080/"
        },
        "id": "GjEOv53kFJve",
        "outputId": "0dd379f7-db80-4c7a-9fd2-7b7a106c6f0d"
      },
      "execution_count": null,
      "outputs": [
        {
          "output_type": "stream",
          "name": "stdout",
          "text": [
            "\n",
            "Dataset Info after cleaning:\n",
            "<class 'pandas.core.frame.DataFrame'>\n",
            "Index: 198 entries, 0 to 197\n",
            "Data columns (total 5 columns):\n",
            " #   Column                  Non-Null Count  Dtype   \n",
            "---  ------                  --------------  -----   \n",
            " 0   CustomerID              198 non-null    int64   \n",
            " 1   Gender                  198 non-null    category\n",
            " 2   Age                     198 non-null    int64   \n",
            " 3   Annual Income (k$)      198 non-null    int64   \n",
            " 4   Spending Score (1-100)  198 non-null    int64   \n",
            "dtypes: category(1), int64(4)\n",
            "memory usage: 8.0 KB\n",
            "None\n"
          ]
        }
      ]
    },
    {
      "cell_type": "markdown",
      "source": [
        "Statistical Analysis"
      ],
      "metadata": {
        "id": "Q4jDtx2fFz-m"
      }
    },
    {
      "cell_type": "code",
      "source": [
        "def perform_statistical_analysis(data):\n",
        "    statistical_results = {}\n",
        "\n",
        "    # Mean and Standard Deviation\n",
        "    mean_value = data['Age'].mean()\n",
        "    std_dev_value = data['Age'].std()\n",
        "    statistical_results['Mean of Age'] = mean_value\n",
        "    statistical_results['Standard Deviation of Age'] = std_dev_value\n",
        "\n",
        "    # Hypothesis Testing (one-sample t-test)\n",
        "    t_statistic, p_value = stats.ttest_1samp(data['Spending Score (1-100)'], popmean=50)\n",
        "    statistical_results['T-Test t-statistic'] = t_statistic\n",
        "    statistical_results['T-Test p-value'] = p_value\n",
        "\n",
        "    # Causal Analysis (Correlation)\n",
        "    correlation = data['Annual Income (k$)'].corr(data['Spending Score (1-100)'])\n",
        "    statistical_results['Correlation between Annual Income and Spending Score'] = correlation\n",
        "\n",
        "    # Linear Regression\n",
        "    X = data[['Annual Income (k$)']]\n",
        "    y = data['Spending Score (1-100)']\n",
        "    model = LinearRegression()\n",
        "    model.fit(X, y)\n",
        "    statistical_results['Linear Regression Coefficient'] = model.coef_[0]\n",
        "    statistical_results['Linear Regression Intercept'] = model.intercept_\n",
        "\n",
        "    return statistical_results"
      ],
      "metadata": {
        "id": "xoNfc0xAF1t_"
      },
      "execution_count": null,
      "outputs": []
    },
    {
      "cell_type": "markdown",
      "source": [
        "Visualizations"
      ],
      "metadata": {
        "id": "XgbN36x1GJOI"
      }
    },
    {
      "cell_type": "code",
      "source": [
        "def create_visualizations(data):\n",
        "    if 'age_group' in data.columns:\n",
        "        data['age_group'] = data['age_group'].astype('category')\n",
        "\n",
        "    # Distribution of Age\n",
        "    plt.figure(figsize=(10, 6))\n",
        "    sns.histplot(data['age'], bins=30, kde=True)\n",
        "    plt.title('Age Distribution')\n",
        "    plt.xlabel('Age')\n",
        "    plt.ylabel('Frequency')\n",
        "    plt.savefig('age_distribution.png')\n",
        "    plt.close()\n",
        "\n",
        "    # Boxplot of Spending Score by Age Group\n",
        "    plt.figure(figsize=(10, 6))\n",
        "    sns.boxplot(x='age_group', y='spending_score', data=data)\n",
        "    plt.title('Boxplot of Spending Score by Age Group')\n",
        "    plt.xlabel('Age Group')\n",
        "    plt.ylabel('Spending Score')\n",
        "    plt.savefig('boxplot_spending_score.png')\n",
        "    plt.close()\n",
        "\n",
        "    # Scatter Plot: Annual Income vs. Spending Score\n",
        "    plt.figure(figsize=(10, 6))\n",
        "    sns.scatterplot(x='annual_income', y='spending_score', data=data)\n",
        "    plt.title('Scatter Plot: Annual Income vs. Spending Score')\n",
        "    plt.xlabel('Annual Income')\n",
        "    plt.ylabel('Spending Score')\n",
        "    plt.savefig('income_vs_spending_score.png')\n",
        "    plt.close()\n",
        "\n",
        "    # Gender Distribution\n",
        "    plt.figure(figsize=(10, 6))\n",
        "    sns.countplot(x='gender', data=data)\n",
        "    plt.title('Gender Distribution')\n",
        "    plt.xlabel('Gender')\n",
        "    plt.ylabel('Count')\n",
        "    plt.savefig('gender_distribution.png')\n",
        "    plt.close()\n",
        "\n",
        "    # Count of Customers by Age Group\n",
        "    plt.figure(figsize=(10, 6))\n",
        "    sns.countplot(x='age_group', data=data)\n",
        "    plt.title('Count of Customers by Age Group')\n",
        "    plt.xlabel('Age Group')\n",
        "    plt.ylabel('Count')\n",
        "    plt.savefig('age_group_counts.png')\n",
        "    plt.close()\n",
        "\n",
        "    # Boxplot of Annual Income by Gender\n",
        "    plt.figure(figsize=(10, 6))\n",
        "    sns.boxplot(x='gender', y='annual_income', data=data)\n",
        "    plt.title('Boxplot of Annual Income by Gender')\n",
        "    plt.xlabel('Gender')\n",
        "    plt.ylabel('Annual Income')\n",
        "    plt.savefig('income_by_gender.png')\n",
        "    plt.close()\n",
        "\n",
        "    # Correlation Matrix Heatmap\n",
        "    plt.figure(figsize=(10, 6))\n",
        "    corr = data.corr()\n",
        "    sns.heatmap(corr, annot=True, fmt=\".2f\", cmap='coolwarm')\n",
        "    plt.title('Correlation Matrix Heatmap')\n",
        "    plt.savefig('correlation_matrix_heatmap.png')\n",
        "    plt.close()\n",
        "\n",
        "    # Pair Plot of Key Features\n",
        "    sns.pairplot(data[['annual_income', 'spending_score', 'age']])\n",
        "    plt.savefig('pairplot.png')\n",
        "    plt.close()\n",
        "\n",
        "    # Customer Segmentation (2D)\n",
        "    plt.figure(figsize=(10, 6))\n",
        "    sns.scatterplot(x='annual_income', y='spending_score', hue='age_group', data=data, palette='deep')\n",
        "    plt.title('Customer Segmentation (2D)')\n",
        "    plt.xlabel('Annual Income')\n",
        "    plt.ylabel('Spending Score')\n",
        "    plt.savefig('customer_segmentation_2D.png')\n",
        "    plt.close()\n",
        "\n",
        "    # Customer Segmentation (3D)\n",
        "    from mpl_toolkits.mplot3d import Axes3D\n",
        "    fig = plt.figure(figsize=(10, 6))\n",
        "    ax = fig.add_subplot(111, projection='3d')\n",
        "    ax.scatter(data['annual_income'], data['spending_score'], data['age'], c=data['age_group'].cat.codes, cmap='viridis')\n",
        "    ax.set_xlabel('Annual Income')\n",
        "    ax.set_ylabel('Spending Score')\n",
        "    ax.set_zlabel('Age')\n",
        "    plt.title('Customer Segmentation (3D)')\n",
        "    plt.savefig('customer_segmentation_3D.png')\n",
        "    plt.close()\n"
      ],
      "metadata": {
        "id": "VCTk6PmoGKG8"
      },
      "execution_count": null,
      "outputs": []
    },
    {
      "cell_type": "markdown",
      "source": [
        "Insights and Conclusions"
      ],
      "metadata": {
        "id": "WhJMVlDWGhSk"
      }
    },
    {
      "cell_type": "code",
      "source": [
        "insights = {\n",
        "    \"Gender Distribution\": data['Gender'].value_counts(),\n",
        "    \"Average Age\": data['Age'].mean(),\n",
        "    \"Average Income\": data['Annual Income (k$)'].mean(),\n",
        "    \"Average Spending Score\": data['Spending Score (1-100)'].mean(),\n",
        "    \"Cluster Sizes\": data['Cluster'].value_counts()\n",
        "}\n",
        "\n",
        "print(\"\\nInsights:\")\n",
        "for key, value in insights.items():\n",
        "    print(f\"{key}:\\n{value}\\n\")\n"
      ],
      "metadata": {
        "colab": {
          "base_uri": "https://localhost:8080/"
        },
        "id": "xfek6SDsGh76",
        "outputId": "96669c22-20f3-47cc-db00-367e72eadf19"
      },
      "execution_count": null,
      "outputs": [
        {
          "output_type": "stream",
          "name": "stdout",
          "text": [
            "\n",
            "Insights:\n",
            "Gender Distribution:\n",
            "Gender\n",
            "Female    112\n",
            "Male       86\n",
            "Name: count, dtype: int64\n",
            "\n",
            "Average Age:\n",
            "38.92929292929293\n",
            "\n",
            "Average Income:\n",
            "59.78787878787879\n",
            "\n",
            "Average Spending Score:\n",
            "50.196969696969695\n",
            "\n",
            "Cluster Sizes:\n",
            "Cluster\n",
            "0    65\n",
            "2    57\n",
            "1    39\n",
            "3    37\n",
            "Name: count, dtype: int64\n",
            "\n"
          ]
        }
      ]
    },
    {
      "cell_type": "code",
      "source": [
        "import os\n",
        "from fpdf import FPDF\n",
        "from google.colab import files\n",
        "\n",
        "def create_pdf_report(statistical_summary, output_path=\"customer_segmentation_statistical_analysis_report.pdf\"):\n",
        "    pdf = FPDF()\n",
        "    pdf.set_auto_page_break(auto=True, margin=15)\n",
        "    pdf.add_page()\n",
        "\n",
        "    # Title\n",
        "    pdf.set_font(\"Arial\", 'B', 16)\n",
        "    pdf.cell(0, 10, 'Customer Segmentation Statistical Analysis Report', ln=True, align='C')\n",
        "\n",
        "    # Section: Introduction\n",
        "    pdf.set_font(\"Arial\", size=12)\n",
        "    pdf.multi_cell(0, 10, \"This report presents the findings from the statistical analysis performed on the customer segmentation dataset.\")\n",
        "\n",
        "    # Section: Visualizations\n",
        "    pdf.set_font(\"Arial\", 'B', 14)\n",
        "    pdf.cell(0, 10, 'Visualizations', ln=True)\n",
        "\n",
        "    # Add each visualization to the PDF only if it exists\n",
        "    visualizations = [\n",
        "        ('Distribution of Age', 'age_distribution.png'),\n",
        "        ('Boxplot of Spending Score by Age', 'boxplot_spending_score.png'),\n",
        "        ('Scatter Plot: Annual Income vs. Spending Score', 'income_vs_spending_score.png'),\n",
        "        ('Gender Distribution', 'gender_distribution.png'),\n",
        "        ('Count of Customers by Age Group', 'age_group_counts.png'),\n",
        "        ('Boxplot of Annual Income by Gender', 'income_by_gender.png'),\n",
        "        ('Correlation Matrix Heatmap', 'correlation_matrix_heatmap.png'),\n",
        "        ('Pair Plot of Key Features', 'pairplot.png'),\n",
        "        ('Customer Segmentation (2D)', 'customer_segmentation_2D.png'),\n",
        "        ('Customer Segmentation (3D)', 'customer_segmentation_3D.png'),\n",
        "    ]\n",
        "\n",
        "    pdf.set_font(\"Arial\", size=12)\n",
        "    for title, img_path in visualizations:\n",
        "        if os.path.exists(img_path):\n",
        "            pdf.cell(0, 10, title, ln=True)\n",
        "            pdf.image(img_path, x=30, w=150)  # Adjust x and w as needed\n",
        "        else:\n",
        "            print(f\"Warning: {img_path} does not exist and will be skipped.\")\n",
        "\n",
        "    # Section: Statistical Analysis\n",
        "    pdf.set_font(\"Arial\", 'B', 14)\n",
        "    pdf.cell(0, 10, 'Statistical Analysis Results', ln=True)\n",
        "\n",
        "    pdf.set_font(\"Arial\", size=12)\n",
        "    for key, value in statistical_summary.items():\n",
        "        pdf.multi_cell(0, 10, f\"{key}: {value:.2f}\" if isinstance(value, (int, float)) else f\"{key}: {value}\")\n",
        "\n",
        "    # Section: Insights and Conclusions\n",
        "    pdf.set_font(\"Arial\", 'B', 14)\n",
        "    pdf.cell(0, 10, 'Insights and Conclusions', ln=True)\n",
        "\n",
        "    insights = [\n",
        "        \"1. The customer age distribution shows that the majority of customers fall within the age groups of 25-35 and 35-45.\",\n",
        "        \"2. The spending score distribution indicates that a significant portion of customers has a high spending score (above 70).\",\n",
        "        \"3. There is a positive correlation between annual income and spending score.\",\n",
        "        \"4. The gender distribution shows a fairly balanced ratio between male and female customers.\",\n",
        "        \"5. The KMeans clustering has successfully identified three distinct customer segments.\",\n",
        "    ]\n",
        "\n",
        "    pdf.set_font(\"Arial\", size=12)\n",
        "    for insight in insights:\n",
        "        pdf.multi_cell(0, 10, insight)\n",
        "\n",
        "    # Save the PDF\n",
        "    try:\n",
        "        pdf.output(output_path)\n",
        "        if os.path.exists(output_path):\n",
        "            print(f\"PDF report saved successfully as: {output_path}\")\n",
        "        else:\n",
        "            print(\"Error: PDF report was not saved.\")\n",
        "    except Exception as e:\n",
        "        print(f\"An error occurred while saving the PDF: {e}\")\n",
        "\n",
        "statistical_summary = perform_statistical_analysis(data)\n",
        "create_pdf_report(statistical_summary, output_path=\"customer_segmentation_statistical_analysis_report.pdf\")  # Create the PDF\n",
        "\n",
        "if os.path.exists(\"customer_segmentation_statistical_analysis_report.pdf\"):\n",
        "    print(\"PDF was created successfully.\")\n",
        "    # Attempt to download the PDF\n",
        "    try:\n",
        "        files.download(\"customer_segmentation_statistical_analysis_report.pdf\")\n",
        "    except FileNotFoundError as e:\n",
        "        print(f\"Download failed: {e}\")\n",
        "else:\n",
        "    print(\"PDF was not created.\")\n"
      ],
      "metadata": {
        "id": "Lzf4eCk_ZOsD",
        "colab": {
          "base_uri": "https://localhost:8080/",
          "height": 86
        },
        "outputId": "9501e907-9359-4f2e-bf68-eceaf953c389"
      },
      "execution_count": null,
      "outputs": [
        {
          "output_type": "stream",
          "name": "stdout",
          "text": [
            "Warning: correlation_matrix_heatmap.png does not exist and will be skipped.\n",
            "Warning: pairplot.png does not exist and will be skipped.\n",
            "PDF report saved successfully as: customer_segmentation_statistical_analysis_report.pdf\n",
            "PDF was created successfully.\n"
          ]
        },
        {
          "output_type": "display_data",
          "data": {
            "text/plain": [
              "<IPython.core.display.Javascript object>"
            ],
            "application/javascript": [
              "\n",
              "    async function download(id, filename, size) {\n",
              "      if (!google.colab.kernel.accessAllowed) {\n",
              "        return;\n",
              "      }\n",
              "      const div = document.createElement('div');\n",
              "      const label = document.createElement('label');\n",
              "      label.textContent = `Downloading \"${filename}\": `;\n",
              "      div.appendChild(label);\n",
              "      const progress = document.createElement('progress');\n",
              "      progress.max = size;\n",
              "      div.appendChild(progress);\n",
              "      document.body.appendChild(div);\n",
              "\n",
              "      const buffers = [];\n",
              "      let downloaded = 0;\n",
              "\n",
              "      const channel = await google.colab.kernel.comms.open(id);\n",
              "      // Send a message to notify the kernel that we're ready.\n",
              "      channel.send({})\n",
              "\n",
              "      for await (const message of channel.messages) {\n",
              "        // Send a message to notify the kernel that we're ready.\n",
              "        channel.send({})\n",
              "        if (message.buffers) {\n",
              "          for (const buffer of message.buffers) {\n",
              "            buffers.push(buffer);\n",
              "            downloaded += buffer.byteLength;\n",
              "            progress.value = downloaded;\n",
              "          }\n",
              "        }\n",
              "      }\n",
              "      const blob = new Blob(buffers, {type: 'application/binary'});\n",
              "      const a = document.createElement('a');\n",
              "      a.href = window.URL.createObjectURL(blob);\n",
              "      a.download = filename;\n",
              "      div.appendChild(a);\n",
              "      a.click();\n",
              "      div.remove();\n",
              "    }\n",
              "  "
            ]
          },
          "metadata": {}
        },
        {
          "output_type": "display_data",
          "data": {
            "text/plain": [
              "<IPython.core.display.Javascript object>"
            ],
            "application/javascript": [
              "download(\"download_39da8cd7-06de-4c22-a001-0ced3bdd7d07\", \"customer_segmentation_statistical_analysis_report.pdf\", 338439)"
            ]
          },
          "metadata": {}
        }
      ]
    }
  ]
}