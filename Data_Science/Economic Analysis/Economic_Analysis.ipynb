{
 "cells": [
  {
   "cell_type": "code",
   "execution_count": 2,
   "metadata": {},
   "outputs": [],
   "source": [
    "from pathlib import Path\n",
    "import pandas as pd\n",
    "import numpy as np\n",
    "import matplotlib.pyplot as plt\n",
    "import plotly.express as px"
   ]
  },
  {
   "cell_type": "code",
   "execution_count": 3,
   "metadata": {},
   "outputs": [],
   "source": [
    "try:\n",
    "    base_path = Path(__file__).parent\n",
    "except NameError:\n",
    "    base_path = Path.cwd()  # fallback for notebooks\n",
    "\n",
    "data_path = base_path / \"brics_cleaned.csv\"\n",
    "df = pd.read_csv(data_path)"
   ]
  },
  {
   "cell_type": "code",
   "execution_count": 4,
   "metadata": {},
   "outputs": [],
   "source": [
    "import warnings\n",
    "warnings.filterwarnings(\"ignore\", category=FutureWarning)"
   ]
  },
  {
   "cell_type": "code",
   "execution_count": 5,
   "metadata": {},
   "outputs": [],
   "source": [
    "df = pd.read_csv(\"economic_analysis_data.csv\")"
   ]
  },
  {
   "cell_type": "code",
   "execution_count": 6,
   "metadata": {},
   "outputs": [],
   "source": [
    "df.shape"
   ]
  },
  {
   "cell_type": "code",
   "execution_count": 7,
   "metadata": {},
   "outputs": [],
   "source": [
    "df.head()"
   ]
  },
  {
   "cell_type": "code",
   "execution_count": 8,
   "metadata": {},
   "outputs": [],
   "source": [
    "df['Exports'].value_counts()"
   ]
  },
  {
   "cell_type": "code",
   "execution_count": 9,
   "metadata": {},
   "outputs": [],
   "source": [
    "df.info()"
   ]
  },
  {
   "cell_type": "code",
   "execution_count": 10,
   "metadata": {},
   "outputs": [],
   "source": [
    "df = df.drop(columns=['Exports'])"
   ]
  },
  {
   "cell_type": "code",
   "execution_count": 11,
   "metadata": {},
   "outputs": [],
   "source": [
    "print(df.isnull().sum())"
   ]
  },
  {
   "cell_type": "code",
   "execution_count": 12,
   "metadata": {},
   "outputs": [],
   "source": [
    "df.describe()"
   ]
  },
  {
   "cell_type": "code",
   "execution_count": 13,
   "metadata": {},
   "outputs": [],
   "source": [
    "# list of countries\n",
    "print(df['Country'].unique())"
   ]
  },
  {
   "cell_type": "code",
   "execution_count": 14,
   "metadata": {},
   "outputs": [],
   "source": [
    "print(df['date'].unique())"
   ]
  },
  {
   "cell_type": "code",
   "execution_count": 15,
   "metadata": {},
   "outputs": [],
   "source": [
    "import seaborn as sns"
   ]
  },
  {
   "cell_type": "code",
   "execution_count": 16,
   "metadata": {},
   "outputs": [],
   "source": [
    "sns.heatmap(df.isnull(), cbar=False)\n",
    "plt.show()"
   ]
  },
  {
   "cell_type": "markdown",
   "metadata": {},
   "source": [
    "So there is no such NULL values"
   ]
  },
  {
   "cell_type": "code",
   "execution_count": 17,
   "metadata": {},
   "outputs": [],
   "source": [
    "# extracting the year\n",
    "df['Year'] = pd.to_datetime(df['date']).dt.year"
   ]
  },
  {
   "cell_type": "code",
   "execution_count": 18,
   "metadata": {},
   "outputs": [],
   "source": [
    "df['Year'].head()"
   ]
  },
  {
   "cell_type": "code",
   "execution_count": 19,
   "metadata": {},
   "outputs": [],
   "source": [
    "df['Year'].value_counts()"
   ]
  },
  {
   "cell_type": "code",
   "execution_count": 20,
   "metadata": {},
   "outputs": [],
   "source": [
    "indicators = ['GDP', 'Unemployment Rate', 'Inflation Rate', 'Current Account Balance']\n",
    "\n",
    "# Descriptive statistics per country and indicator\n",
    "for col in indicators:\n",
    "    print(f'Descriptive stats for {col}:')\n",
    "    print(df.groupby('Country')[col].describe())\n",
    "    print('\\n')"
   ]
  },
  {
   "cell_type": "code",
   "execution_count": 21,
   "metadata": {},
   "outputs": [],
   "source": [
    "for col in indicators:\n",
    "    plt.figure(figsize=(8, 4))\n",
    "    sns.boxplot(x='Country', y=col, data=df)\n",
    "    plt.title(f'{col} Distribution by Country')\n",
    "    plt.show()"
   ]
  },
  {
   "cell_type": "code",
   "execution_count": 22,
   "metadata": {},
   "outputs": [],
   "source": [
    "import plotly.express as px\n",
    "fig = px.line(df, x='date', y='GDP', color='Country', markers=True,\n",
    "              title='GDP Over Time by Country')\n",
    "fig.show()"
   ]
  },
  {
   "cell_type": "code",
   "execution_count": 23,
   "metadata": {},
   "outputs": [],
   "source": [
    "for col in ['Unemployment Rate', 'Inflation Rate', 'Current Account Balance']:\n",
    "    fig = px.line(df, x='date', y=col, color='Country', markers=True,\n",
    "                  title=f'{col} Over Time by Country')\n",
    "    fig.show()"
   ]
  },
  {
   "cell_type": "code",
   "execution_count": 24,
   "metadata": {},
   "outputs": [],
   "source": [
    "df['date'].dtype"
   ]
  },
  {
   "cell_type": "code",
   "execution_count": 25,
   "metadata": {},
   "outputs": [],
   "source": [
    "bins = [1999, 2005, 2010, 2015, 2020, 2025]\n",
    "labels = ['2000-2005', '2006-2010', '2011-2015', '2016-2020', '2021-2023']\n",
    "\n",
    "df['date'] = pd.to_datetime(df['date'], errors='coerce')\n",
    "df['Year'] = df['date'].dt.year\n",
    "df['Period'] = pd.cut(df['Year'], bins=bins, labels=labels)\n",
    "\n",
    "period_summary = df.groupby(['Country', 'Period'])[['GDP', 'Unemployment Rate', 'Inflation Rate', 'Current Account Balance']].mean().reset_index()\n",
    "print(period_summary)"
   ]
  },
  {
   "cell_type": "code",
   "execution_count": 26,
   "metadata": {},
   "outputs": [],
   "source": [
    "corr = df[['GDP', 'Unemployment Rate', 'Inflation Rate', 'Current Account Balance']].corr()\n",
    "\n",
    "# heatmap\n",
    "plt.figure(figsize=(7,5))\n",
    "sns.heatmap(corr, annot=True, cmap='coolwarm', fmt=\".2f\")\n",
    "plt.title('Correlation Heatmap of Economic Indicators')\n",
    "plt.show()"
   ]
  },
  {
   "cell_type": "code",
   "execution_count": 27,
   "metadata": {},
   "outputs": [],
   "source": [
    "for country in df['Country'].unique():\n",
    "    corr = df[df['Country'] == country][['GDP', 'Unemployment Rate', 'Inflation Rate', 'Current Account Balance']].corr()\n",
    "    plt.figure(figsize=(7,5))\n",
    "    sns.heatmap(corr, annot=True, cmap='coolwarm', fmt=\".2f\")\n",
    "    plt.title(f'Correlation Heatmap: {country}')\n",
    "    plt.show()"
   ]
  },
  {
   "cell_type": "code",
   "execution_count": 28,
   "metadata": {},
   "outputs": [],
   "source": [
    "import plotly.express as px\n",
    "\n",
    "fig = px.scatter(df, x='GDP', y='Unemployment Rate', color='Country',\n",
    "                 title='GDP vs. Unemployment Rate')\n",
    "fig.show()"
   ]
  },
  {
   "cell_type": "code",
   "execution_count": 29,
   "metadata": {},
   "outputs": [],
   "source": [
    "fig = px.scatter(\n",
    "    df,\n",
    "    x='Unemployment Rate',\n",
    "    y='Inflation Rate',\n",
    "    color='Country',\n",
    "    title='Unemployment Rate vs. Inflation Rate')\n",
    "fig.show()"
   ]
  },
  {
   "cell_type": "code",
   "execution_count": 30,
   "metadata": {},
   "outputs": [],
   "source": [
    "indicators = ['GDP', 'Unemployment Rate', 'Inflation Rate', 'Current Account Balance']\n",
    "df = df.sort_values(['Country', 'date'])\n",
    "\n",
    "# Year-on-Year changes\n",
    "for col in indicators:\n",
    "    df[f'{col}_YoY_Change'] = df.groupby('Country')[col].pct_change() * 100"
   ]
  },
  {
   "cell_type": "code",
   "execution_count": 31,
   "metadata": {},
   "outputs": [],
   "source": [
    "fig = px.line(\n",
    "    df, x='date', y='GDP_YoY_Change', color='Country',\n",
    "    title='Year-on-Year GDP Change (%) by Country')\n",
    "fig.show()"
   ]
  },
  {
   "cell_type": "code",
   "execution_count": 32,
   "metadata": {},
   "outputs": [],
   "source": [
    "print(\"Latest values per country:\")\n",
    "print(df.sort_values('date').groupby('Country').tail(1)[['Country', 'date', 'GDP', 'Unemployment Rate', 'Inflation Rate', 'Current Account Balance']])"
   ]
  },
  {
   "cell_type": "code",
   "execution_count": 33,
   "metadata": {},
   "outputs": [],
   "source": [
    "print(\"Correlation matrix for all countries combined:\")\n",
    "print(df[['GDP', 'Unemployment Rate', 'Inflation Rate', 'Current Account Balance']].corr())"
   ]
  },
  {
   "cell_type": "code",
   "execution_count": 34,
   "metadata": {},
   "outputs": [],
   "source": [
    "for col in ['GDP', 'Unemployment Rate', 'Inflation Rate', 'Current Account Balance']:\n",
    "    max_row = df.loc[df[f'{col}_YoY_Change'].idxmax()]\n",
    "    min_row = df.loc[df[f'{col}_YoY_Change'].idxmin()]\n",
    "    print(f\"Largest positive YoY change in {col}: {max_row['Country']} {max_row['date']} {max_row[f'{col}_YoY_Change']:.2f}%\")\n",
    "    print(f\"Largest negative YoY change in {col}: {min_row['Country']} {min_row['date']} {min_row[f'{col}_YoY_Change']:.2f}%\")\n",
    "    print('-' * 60)"
   ]
  },
  {
   "cell_type": "code",
   "execution_count": 35,
   "metadata": {},
   "outputs": [],
   "source": [
    "for country in df['Country'].unique():\n",
    "    print(f\"\\nMost recent 5 years for {country}:\")\n",
    "    print(df[df['Country'] == country].sort_values('date').tail(5)[['date', 'GDP', 'Unemployment Rate', 'Inflation Rate', 'Current Account Balance']])"
   ]
  },
  {
   "cell_type": "markdown",
   "metadata": {},
   "source": [
    "**Insights**\n",
    "\n",
    "- **Latest data (2023):**\n",
    "  - **Brazil:** GDP dollar 2.17T, Unemployment 7.95 per cent, Inflation 213.9, CA Balance -dollar 30.8B\n",
    "  - **India:** GDP dollar 3.55T, Unemployment 4.17 per cent, Inflation 216.9, CA Balance -dollar 30.2B\n",
    "  - **South Africa:** GDP dollar 377.8B, Unemployment 27.99 per cent, Inflation 194.8, CA Balance -dollar 6.1B\n",
    "\n",
    "- **Correlations:**\n",
    "  - Higher GDP tends to mean lower unemployment.\n",
    "  - GDP is positively linked to inflation, and negatively to current account balance.\n",
    "\n",
    "- **Year-on-year highlights:**\n",
    "  - Brazil saw the largest GDP rise (+33% in 2005) and fall (-27% in 2015).\n",
    "  - India had the largest negative swing in current account balance (-1418% in 2005).\n",
    "  - Unemployment in Brazil dropped sharply in 2022.\n",
    "\n",
    "- **Insights:**\n",
    "  - Brazil and India show GDP growth but face inflation and current account deficits.\n",
    "  - South Africa struggles with high unemployment.\n",
    "\n",
    "- **Recommendations:**  \n",
    "  - Brazil and India: Focus on stabilizing inflation and deficits.\n",
    "  - South Africa: Address persistent unemployment."
   ]
  },
  {
   "cell_type": "code",
   "execution_count": 36,
   "metadata": {},
   "outputs": [],
   "source": [
    "# Save your cleaned DataFrame\n",
    "df.to_csv('brics_cleaned.csv', index=False)"
   ]
  }
 ],
 "metadata": {
  "kernelspec": {
   "display_name": "Python 3",
   "language": "python",
   "name": "python3"
  },
  "language_info": {
   "name": "python",
   "version": ""
  }
 },
 "nbformat": 4,
 "nbformat_minor": 5
}
