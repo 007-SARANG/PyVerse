{
  "nbformat": 4,
  "nbformat_minor": 0,
  "metadata": {
    "colab": {
      "provenance": []
    },
    "kernelspec": {
      "name": "python3",
      "display_name": "Python 3"
    },
    "language_info": {
      "name": "python"
    }
  },
  "cells": [
    {
      "cell_type": "code",
      "execution_count": 2,
      "metadata": {
        "colab": {
          "base_uri": "https://localhost:8080/"
        },
        "id": "uXt45R1c7x8R",
        "outputId": "2fa45fbd-e40e-4d8d-8f3b-b62384bbbd93"
      },
      "outputs": [
        {
          "output_type": "stream",
          "name": "stdout",
          "text": [
            "Collecting scapy\n",
            "  Downloading scapy-2.6.0-py3-none-any.whl.metadata (5.6 kB)\n",
            "Downloading scapy-2.6.0-py3-none-any.whl (2.4 MB)\n",
            "\u001b[2K   \u001b[90m━━━━━━━━━━━━━━━━━━━━━━━━━━━━━━━━━━━━━━━━\u001b[0m \u001b[32m2.4/2.4 MB\u001b[0m \u001b[31m27.0 MB/s\u001b[0m eta \u001b[36m0:00:00\u001b[0m\n",
            "\u001b[?25hInstalling collected packages: scapy\n",
            "Successfully installed scapy-2.6.0\n"
          ]
        }
      ],
      "source": [
        "pip install scapy"
      ]
    },
    {
      "cell_type": "code",
      "source": [
        "pip install paramiko\n"
      ],
      "metadata": {
        "colab": {
          "base_uri": "https://localhost:8080/"
        },
        "id": "P5tIRiK8CfKL",
        "outputId": "7de69e9c-edc3-4711-e71b-232cc88427d2"
      },
      "execution_count": 15,
      "outputs": [
        {
          "output_type": "stream",
          "name": "stdout",
          "text": [
            "Collecting paramiko\n",
            "  Downloading paramiko-3.5.0-py3-none-any.whl.metadata (4.4 kB)\n",
            "Collecting bcrypt>=3.2 (from paramiko)\n",
            "  Downloading bcrypt-4.2.0-cp39-abi3-manylinux_2_28_x86_64.whl.metadata (9.6 kB)\n",
            "Requirement already satisfied: cryptography>=3.3 in /usr/local/lib/python3.10/dist-packages (from paramiko) (43.0.3)\n",
            "Collecting pynacl>=1.5 (from paramiko)\n",
            "  Downloading PyNaCl-1.5.0-cp36-abi3-manylinux_2_17_x86_64.manylinux2014_x86_64.manylinux_2_24_x86_64.whl.metadata (8.6 kB)\n",
            "Requirement already satisfied: cffi>=1.12 in /usr/local/lib/python3.10/dist-packages (from cryptography>=3.3->paramiko) (1.17.1)\n",
            "Requirement already satisfied: pycparser in /usr/local/lib/python3.10/dist-packages (from cffi>=1.12->cryptography>=3.3->paramiko) (2.22)\n",
            "Downloading paramiko-3.5.0-py3-none-any.whl (227 kB)\n",
            "\u001b[2K   \u001b[90m━━━━━━━━━━━━━━━━━━━━━━━━━━━━━━━━━━━━━━━━\u001b[0m \u001b[32m227.1/227.1 kB\u001b[0m \u001b[31m8.0 MB/s\u001b[0m eta \u001b[36m0:00:00\u001b[0m\n",
            "\u001b[?25hDownloading bcrypt-4.2.0-cp39-abi3-manylinux_2_28_x86_64.whl (273 kB)\n",
            "\u001b[2K   \u001b[90m━━━━━━━━━━━━━━━━━━━━━━━━━━━━━━━━━━━━━━━━\u001b[0m \u001b[32m273.8/273.8 kB\u001b[0m \u001b[31m13.3 MB/s\u001b[0m eta \u001b[36m0:00:00\u001b[0m\n",
            "\u001b[?25hDownloading PyNaCl-1.5.0-cp36-abi3-manylinux_2_17_x86_64.manylinux2014_x86_64.manylinux_2_24_x86_64.whl (856 kB)\n",
            "\u001b[2K   \u001b[90m━━━━━━━━━━━━━━━━━━━━━━━━━━━━━━━━━━━━━━━━\u001b[0m \u001b[32m856.7/856.7 kB\u001b[0m \u001b[31m37.0 MB/s\u001b[0m eta \u001b[36m0:00:00\u001b[0m\n",
            "\u001b[?25hInstalling collected packages: bcrypt, pynacl, paramiko\n",
            "Successfully installed bcrypt-4.2.0 paramiko-3.5.0 pynacl-1.5.0\n"
          ]
        }
      ]
    },
    {
      "cell_type": "code",
      "source": [
        "import socket\n",
        "from concurrent.futures import ThreadPoolExecutor\n",
        "import paramiko\n",
        "\n",
        "# Function to detect service running on open ports\n",
        "def detect_service(port):\n",
        "    services = {\n",
        "        21: \"FTP\",\n",
        "        22: \"SSH\",\n",
        "        23: \"Telnet\",\n",
        "        25: \"SMTP\",\n",
        "        80: \"HTTP\",\n",
        "        110: \"POP3\",\n",
        "        143: \"IMAP\",\n",
        "        443: \"HTTPS\",\n",
        "        3306: \"MySQL\",\n",
        "        5432: \"PostgreSQL\",\n",
        "        3389: \"RDP\"\n",
        "    }\n",
        "    return services.get(port, \"Unknown Service\")\n",
        "\n",
        "# Banner grabbing with SSH integration\n",
        "def banner_grabbing(target_ip, port):\n",
        "    try:\n",
        "        if port == 22:  # SSH-specific banner grabbing\n",
        "            banner = ssh_banner_grabbing(target_ip)\n",
        "            return banner if banner else \"No SSH banner received\"\n",
        "\n",
        "        # For non-SSH services\n",
        "        sock = socket.socket(socket.AF_INET, socket.SOCK_STREAM)\n",
        "        sock.settimeout(1)\n",
        "        sock.connect((target_ip, port))\n",
        "\n",
        "        # Send protocol-specific request based on common ports\n",
        "        if port == 80 or port == 8080:  # HTTP\n",
        "            sock.send(b\"HEAD / HTTP/1.1\\r\\nHost: \" + target_ip.encode() + b\"\\r\\n\\r\\n\")\n",
        "        elif port == 21:  # FTP\n",
        "            sock.send(b\"USER anonymous\\r\\n\")\n",
        "        elif port == 25:  # SMTP\n",
        "            sock.send(b\"EHLO test\\r\\n\")\n",
        "        elif port == 110:  # POP3\n",
        "            sock.send(b\"USER test\\r\\n\")\n",
        "        elif port == 143:  # IMAP\n",
        "            sock.send(b\"TAG LOGIN test\\r\\n\")\n",
        "        else:\n",
        "\n",
        "            sock.send(b\"HEAD / HTTP/1.1\\r\\n\\r\\n\") # HTTPS request for fallback\n",
        "\n",
        "        banner = sock.recv(1024).decode().strip()\n",
        "        sock.close()\n",
        "        return banner if banner else \"No banner received\"\n",
        "    except Exception as e:\n",
        "        return f\"Error grabbing banner: {e}\"\n",
        "\n",
        "# SSH-specific banner grabbing using paramiko\n",
        "def ssh_banner_grabbing(target_ip):\n",
        "    try:\n",
        "        client = paramiko.SSHClient()\n",
        "        client.set_missing_host_key_policy(paramiko.AutoAddPolicy())\n",
        "        client.connect(target_ip, port=22, username='', password='', timeout=2)\n",
        "        banner = client.get_transport().remote_version\n",
        "        client.close()\n",
        "        return banner\n",
        "    except Exception as e:\n",
        "        return f\"SSH error: {e}\"\n",
        "\n",
        "# Function to scan a single port\n",
        "def scan_port(target_ip, port):\n",
        "    sock = socket.socket(socket.AF_INET, socket.SOCK_STREAM)\n",
        "    sock.settimeout(1)\n",
        "    result = sock.connect_ex((target_ip, port))\n",
        "\n",
        "    if result == 0:\n",
        "        service = detect_service(port)\n",
        "        banner = banner_grabbing(target_ip, port)\n",
        "        output = f\"Port {port}:\\n  - Service: {service}\\n  - Banner: {banner}\\n{'-'*40}\"\n",
        "        print(output)\n",
        "    sock.close()\n",
        "    return port if result == 0 else None\n",
        "\n",
        "# Scanner with multithreading\n",
        "def run_scanner(target_ip, start_port, end_port):\n",
        "    print(f\"\\nStarting scan on {target_ip} (Ports {start_port} to {end_port})\\n{'='*50}\")\n",
        "\n",
        "    with ThreadPoolExecutor(max_workers=100) as executor:\n",
        "        futures = [executor.submit(scan_port, target_ip, port) for port in range(start_port, end_port + 1)]\n",
        "\n",
        "        open_ports = [future.result() for future in futures if future.result()]\n",
        "\n",
        "    if not open_ports:\n",
        "        print(\"\\nNo open ports found.\\n\")\n",
        "    else:\n",
        "        print(f\"\\nTotal Open Ports: {len(open_ports)}\\n{'='*50}\")\n",
        "\n",
        "if __name__ == \"__main__\":\n",
        "    target_ip = input(\"Enter target IP address: \")\n",
        "    start_port = int(input(\"Enter start port: \"))\n",
        "    end_port = int(input(\"Enter end port: \"))\n",
        "\n",
        "    run_scanner(target_ip, start_port, end_port)"
      ],
      "metadata": {
        "colab": {
          "base_uri": "https://localhost:8080/"
        },
        "id": "eoEe89NuUlt0",
        "outputId": "4f050158-a70f-42b2-bf6a-26b4d0409479"
      },
      "execution_count": 17,
      "outputs": [
        {
          "output_type": "stream",
          "name": "stdout",
          "text": [
            "Enter target IP address: 20.207.73.82\n",
            "Enter start port: 20\n",
            "Enter end port: 100\n",
            "\n",
            "Starting scan on 20.207.73.82 (Ports 20 to 100)\n",
            "==================================================\n",
            "Port 80:\n",
            "  - Service: HTTP\n",
            "  - Banner: HTTP/1.1 301 Moved Permanently\n",
            "Content-Length: 0\n",
            "Location: https://20.207.73.82/\n",
            "----------------------------------------\n",
            "Port 22:\n",
            "  - Service: SSH\n",
            "  - Banner: SSH error: Bad authentication type; allowed types: ['publickey']\n",
            "----------------------------------------\n",
            "\n",
            "Total Open Ports: 2\n",
            "==================================================\n"
          ]
        }
      ]
    }
  ]
}