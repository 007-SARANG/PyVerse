{
 "cells": [
  {
   "cell_type": "code",
   "execution_count": null,
   "id": "7b6fe965",
   "metadata": {
    "vscode": {
     "languageId": "plaintext"
    }
   },
   "outputs": [],
   "source": [
    "# Bitcoin Market Price Prediction Analysis\n",
    "import pandas as pd\n",
    "import numpy as np\n",
    "import seaborn as sns\n",
    "import matplotlib.pyplot as plt\n",
    "from src.data_processing import load_data, preprocess_data, prepare_training_data\n",
    "from src.models import train_model, get_feature_importance_df\n",
    "from src.visualization import set_plot_style, plot_time_series, plot_correlation_matrix, plot_feature_importance\n",
    "\n",
    "# Set style for plots\n",
    "set_plot_style()\n",
    "\n",
    "# Load and preprocess data\n",
    "data = load_data('../data/bitcoin_dataset.csv')\n",
    "data_clean = preprocess_data(data)\n",
    "\n",
    "# EDA Visualizations\n",
    "plot_time_series(\n",
    "    data_clean,\n",
    "    ['btc_total_bitcoins', 'btc_trade_volume', 'btc_blocks_size'],\n",
    "    [\"Total Bitcoins\", \"Trade Volume\", \"Blocks Size\"]\n",
    ")\n",
    "\n",
    "plot_correlation_matrix(data_clean)\n",
    "\n",
    "# Prepare training data\n",
    "X_train, X_test, y_train, y_test, feature_names = prepare_training_data(data_clean)\n",
    "\n",
    "# Train and compare models\n",
    "models = {\n",
    "    \"Linear Regression\": LinearRegression(),\n",
    "    \"Ridge Regression\": Ridge(),\n",
    "    \"Lasso Regression\": Lasso(alpha=0.1),\n",
    "    \"Support Vector Regression\": SVR(kernel='linear')\n",
    "}\n",
    "\n",
    "results = {}\n",
    "for name, model in models.items():\n",
    "    print(f\"\\nTraining {name}...\")\n",
    "    results[name] = train_model(model, X_train, X_test, y_train, y_test)\n",
    "    print(f\"Train R²: {results[name]['train_score']:.4f}\")\n",
    "    print(f\"Test R²: {results[name]['test_score']:.4f}\")\n",
    "    \n",
    "    # Plot feature importance for linear models\n",
    "    if results[name]['feature_importance'] is not None:\n",
    "        importance_df = get_feature_importance_df(results[name]['model'], feature_names)\n",
    "        plot_feature_importance(importance_df, f\"{name} Feature Importance\")\n",
    "\n",
    "print(\"\\nAnalysis complete.\")"
   ]
  }
 ],
 "metadata": {
  "language_info": {
   "name": "python"
  }
 },
 "nbformat": 4,
 "nbformat_minor": 5
}
